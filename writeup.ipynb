{
 "cells": [
  {
   "cell_type": "markdown",
   "metadata": {},
   "source": [
    "### URL\n",
    "The application is available at https://share.streamlit.io/idsf21/assignment-2-yujunqin/main/test.py\n",
    "\n",
    "### Goal of this project\n",
    "\n",
    "The goal of this project is to enable the user to discover how the global air traffic was impacted after the COVID-19 spreads in the world. The trend in the air traffic data in 2020 reflects how different countries deal with the pandemic.\n",
    "\n",
    "### Design decisions\n",
    "\n",
    "I choose to plot the moving average of the volume of traffic with interactively changable window size. The rationale behind this is that when I initially plot the single-day traffic, the plot is messy and the trend was concealed from the fluctuation. Then I come up with the idea of moving average to smooth the trend and the window size can be decided by the user to allow them choose the desired smoothness.\n",
    "\n",
    "Other alternatives include:\n",
    "1. Distribution of traffic. This is not intuitive at all and the time series is ignored.\n",
    "1. Plot airport-specific traffic. Plot at this granularity does show the traffic difference in airports. This is useful in showing the difference in states, but there are too many airports to show on the graph and it makes the plot very messy.\n",
    "\n",
    "### Development process\n",
    "\n",
    "This project is done by myself. The development process is:\n",
    "1. Choosing a dataset. By browsing on Kaggle, I look at datasets of my interest and briefly check the columns. Then I decides the most interesting one.\n",
    "1. Perform EDA on the dataset.\n",
    "1. Get familiar with Streamlit.\n",
    "1. Try different plots and interactions and decide the best one.\n",
    "\n",
    "The time spent on this project is roughly 6 hours. The dataset selection and adjusting plots takes the most time."
   ]
  }
 ],
 "metadata": {
  "language_info": {
   "name": "python"
  },
  "orig_nbformat": 4
 },
 "nbformat": 4,
 "nbformat_minor": 2
}
